{
 "cells": [
  {
   "cell_type": "code",
   "execution_count": 1,
   "id": "65a97862",
   "metadata": {},
   "outputs": [],
   "source": [
    "### testing fairness\n",
    "import functions\n",
    "import importlib\n",
    "importlib.reload(functions)\n",
    "\n",
    "from functions import read_in_cards\n",
    "\n",
    "\n",
    "import random\n",
    "from collections import Counter"
   ]
  },
  {
   "cell_type": "code",
   "execution_count": 2,
   "id": "884f1a49",
   "metadata": {},
   "outputs": [
    {
     "name": "stdout",
     "output_type": "stream",
     "text": [
      "Kártyák száma: 56\n"
     ]
    }
   ],
   "source": [
    "cards = read_in_cards()\n",
    "# keep only Kártya leírás HUN\tJobbos bonus\tBalos Bonus columns\n",
    "cards = cards[['Kártya leírás HUN', 'Jobbos bonus', 'Balos Bonus']]\n",
    "\n",
    "print(f\"Kártyák száma: {len(cards)}\")"
   ]
  },
  {
   "cell_type": "code",
   "execution_count": 3,
   "id": "fa362393",
   "metadata": {},
   "outputs": [
    {
     "data": {
      "text/html": [
       "<div>\n",
       "<style scoped>\n",
       "    .dataframe tbody tr th:only-of-type {\n",
       "        vertical-align: middle;\n",
       "    }\n",
       "\n",
       "    .dataframe tbody tr th {\n",
       "        vertical-align: top;\n",
       "    }\n",
       "\n",
       "    .dataframe thead th {\n",
       "        text-align: right;\n",
       "    }\n",
       "</style>\n",
       "<table border=\"1\" class=\"dataframe\">\n",
       "  <thead>\n",
       "    <tr style=\"text-align: right;\">\n",
       "      <th></th>\n",
       "      <th>Kártya leírás HUN</th>\n",
       "      <th>Jobbos bonus</th>\n",
       "      <th>Balos Bonus</th>\n",
       "    </tr>\n",
       "  </thead>\n",
       "  <tbody>\n",
       "    <tr>\n",
       "      <th>9</th>\n",
       "      <td>A 'család' szó betiltása, helyette 'életközöss...</td>\n",
       "      <td>3</td>\n",
       "      <td>1</td>\n",
       "    </tr>\n",
       "    <tr>\n",
       "      <th>10</th>\n",
       "      <td>A csárda világörökségi védelem alá helyezése</td>\n",
       "      <td>1</td>\n",
       "      <td>3</td>\n",
       "    </tr>\n",
       "    <tr>\n",
       "      <th>11</th>\n",
       "      <td>Magasabb adóterhek a fehéreknek</td>\n",
       "      <td>3</td>\n",
       "      <td>1</td>\n",
       "    </tr>\n",
       "    <tr>\n",
       "      <th>12</th>\n",
       "      <td>A Himnusz újraírása gender-semleges változatra</td>\n",
       "      <td>3</td>\n",
       "      <td>1</td>\n",
       "    </tr>\n",
       "    <tr>\n",
       "      <th>14</th>\n",
       "      <td>A húsfogyasztás népszerűsítése, az ágazat mege...</td>\n",
       "      <td>1</td>\n",
       "      <td>2</td>\n",
       "    </tr>\n",
       "  </tbody>\n",
       "</table>\n",
       "</div>"
      ],
      "text/plain": [
       "                                    Kártya leírás HUN  Jobbos bonus  \\\n",
       "9   A 'család' szó betiltása, helyette 'életközöss...             3   \n",
       "10       A csárda világörökségi védelem alá helyezése             1   \n",
       "11                    Magasabb adóterhek a fehéreknek             3   \n",
       "12     A Himnusz újraírása gender-semleges változatra             3   \n",
       "14  A húsfogyasztás népszerűsítése, az ágazat mege...             1   \n",
       "\n",
       "    Balos Bonus  \n",
       "9             1  \n",
       "10            3  \n",
       "11            1  \n",
       "12            1  \n",
       "14            2  "
      ]
     },
     "execution_count": 3,
     "metadata": {},
     "output_type": "execute_result"
    }
   ],
   "source": [
    "cards.head()"
   ]
  },
  {
   "cell_type": "code",
   "execution_count": 7,
   "id": "f08259c2",
   "metadata": {},
   "outputs": [
    {
     "name": "stdout",
     "output_type": "stream",
     "text": [
      "\n",
      "🔢 Összesített szavazatok: {'balos': 126484, 'jobbos': 130442}\n",
      "\n",
      "📊 Jobbos nyerési arány: 50.77%\n",
      "📊 Balos nyerési arány: 49.23%\n"
     ]
    }
   ],
   "source": [
    "# Paraméterek\n",
    "simulation_games = 10000\n",
    "card_per_game = 5\n",
    "szavazok = 3\n",
    "method = \"ellene\"  # vagy \"ellene\" \"mellette\"\n",
    "debug = False\n",
    "\n",
    "# Szavazatok számlálója\n",
    "total_vote_counter = Counter()\n",
    "\n",
    "for game in range(simulation_games):\n",
    "    game_cards = cards.sample(card_per_game)\n",
    "    game_vote_counter = Counter()\n",
    "\n",
    "    for _, card in game_cards.iterrows():\n",
    "        if method == \"mellette\":\n",
    "            jobbos_bonus = card[\"Jobbos bonus\"]\n",
    "            balos_bonus = card[\"Balos Bonus\"]\n",
    "        else:  # \"ellene\"\n",
    "            jobbos_bonus = card[\"Balos Bonus\"]\n",
    "            balos_bonus = card[\"Jobbos bonus\"]\n",
    "\n",
    "        for _ in range(szavazok):\n",
    "            szavazo_valasztas = random.choice([\"jobbos\", \"balos\"])\n",
    "            if szavazo_valasztas == \"jobbos\":\n",
    "                game_vote_counter[\"jobbos\"] += int(jobbos_bonus)\n",
    "            else:\n",
    "                game_vote_counter[\"balos\"] += int(balos_bonus)\n",
    "\n",
    "        if debug:\n",
    "            print(f\"\\n🃏 {card['Kártya leírás HUN']}\")\n",
    "            print(f\"Jobbos bonus: {jobbos_bonus}, Balos bonus: {balos_bonus}\")\n",
    "            print(f\"Jelenlegi szavazatok: {dict(game_vote_counter)}\")\n",
    "\n",
    "    total_vote_counter += game_vote_counter\n",
    "\n",
    "# Eredmények\n",
    "print(f\"\\n🔢 Összesített szavazatok: {dict(total_vote_counter)}\")\n",
    "osszes_szavazat = sum(total_vote_counter.values())\n",
    "jobbos_szazalek = (total_vote_counter[\"jobbos\"] / osszes_szavazat) * 100\n",
    "balos_szazalek = (total_vote_counter[\"balos\"] / osszes_szavazat) * 100\n",
    "\n",
    "print(f\"\\n📊 Jobbos nyerési arány: {jobbos_szazalek:.2f}%\")\n",
    "print(f\"📊 Balos nyerési arány: {balos_szazalek:.2f}%\")\n"
   ]
  }
 ],
 "metadata": {
  "kernelspec": {
   "display_name": ".enkicsipartom",
   "language": "python",
   "name": "python3"
  },
  "language_info": {
   "codemirror_mode": {
    "name": "ipython",
    "version": 3
   },
   "file_extension": ".py",
   "mimetype": "text/x-python",
   "name": "python",
   "nbconvert_exporter": "python",
   "pygments_lexer": "ipython3",
   "version": "3.12.1"
  }
 },
 "nbformat": 4,
 "nbformat_minor": 5
}
